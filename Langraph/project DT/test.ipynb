{
 "cells": [
  {
   "cell_type": "code",
   "execution_count": null,
   "metadata": {},
   "outputs": [],
   "source": [
    "from tools.ToolsLLM import save_chat, get_chat\n",
    "received_phone_num = '94769818269'\n",
    "messages = get_chat(received_phone_num)\n",
    "print(messages)"
   ]
  },
  {
   "cell_type": "code",
   "execution_count": 16,
   "metadata": {},
   "outputs": [
    {
     "name": "stdout",
     "output_type": "stream",
     "text": [
      "human: Hi\n",
      "ai: Hey there! 👋 How can I help you today? \n",
      "\n",
      "human: I want to plan a trip to Sri Lanka\n",
      "ai: Great! To start planning, what month are you looking to travel to Sri Lanka?\n"
     ]
    }
   ],
   "source": [
    "from langchain.schema import HumanMessage, AIMessage\n",
    "\n",
    "# Example list of message objects\n",
    "messages = [\n",
    "    HumanMessage(content='Hi'),\n",
    "    AIMessage(content='Hey there! 👋 How can I help you today? \\n'),\n",
    "    HumanMessage(content='I want to plan a trip to Sri Lanka'),\n",
    "    AIMessage(content='Great! To start planning, what month are you looking to travel to Sri Lanka?')\n",
    "]\n",
    "\n",
    "# Function to convert message objects to human: , ai: format\n",
    "def convert_to_conversation_format(messages):\n",
    "    conversation = []\n",
    "    \n",
    "    for message in messages:\n",
    "        if isinstance(message, HumanMessage):\n",
    "            conversation.append(f\"human: {message.content}\")\n",
    "        elif isinstance(message, AIMessage):\n",
    "            conversation.append(f\"ai: {message.content}\")\n",
    "    \n",
    "    return \"\\n\".join(conversation)\n",
    "\n",
    "# Convert and print the conversation format\n",
    "output = convert_to_conversation_format(messages)\n",
    "print(output)\n"
   ]
  },
  {
   "cell_type": "code",
   "execution_count": 15,
   "metadata": {},
   "outputs": [
    {
     "name": "stdout",
     "output_type": "stream",
     "text": [
      "There is no Name\n",
      "The Num_of_days is 7\n"
     ]
    }
   ],
   "source": [
    "data = [{'Name': '', 'Num_of_days': 7}]\n",
    "\n",
    "# Function to generate meaningful text based on empty or non-empty values\n",
    "def dict_to_meaningful_text(data):\n",
    "    meaningful_text = []\n",
    "    \n",
    "    for key, value in data[0].items():\n",
    "        if value:  # If the value is not empty\n",
    "            formatted_text = f\"The {key} is {value}\"\n",
    "        else:  # If the value is empty\n",
    "            formatted_text = f\"There is no {key.replace('_', ' ').capitalize()}\"\n",
    "        meaningful_text.append(formatted_text)\n",
    "\n",
    "    return \"\\n\".join(meaningful_text)\n",
    "\n",
    "# Generate the meaningful text\n",
    "output_text = dict_to_meaningful_text(data)\n",
    "print(output_text)"
   ]
  }
 ],
 "metadata": {
  "kernelspec": {
   "display_name": "my_gemini_bot",
   "language": "python",
   "name": "python3"
  },
  "language_info": {
   "codemirror_mode": {
    "name": "ipython",
    "version": 3
   },
   "file_extension": ".py",
   "mimetype": "text/x-python",
   "name": "python",
   "nbconvert_exporter": "python",
   "pygments_lexer": "ipython3",
   "version": "3.12.4"
  }
 },
 "nbformat": 4,
 "nbformat_minor": 2
}
